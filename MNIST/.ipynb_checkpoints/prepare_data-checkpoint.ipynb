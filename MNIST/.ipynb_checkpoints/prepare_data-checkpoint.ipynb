{
 "cells": [
  {
   "cell_type": "code",
   "execution_count": 20,
   "id": "7fd2d8d4",
   "metadata": {},
   "outputs": [],
   "source": [
    "import os\n",
    "import pickle\n",
    "from mnist import MNIST"
   ]
  },
  {
   "cell_type": "code",
   "execution_count": 2,
   "id": "f51b5eb7",
   "metadata": {},
   "outputs": [],
   "source": [
    "def load_data(path):\n",
    "    mndata = MNIST(path)\n",
    "    tr_x, tr_y = mndata.load_training()\n",
    "    tst_x, tst_y = mndata.load_testing()\n",
    "    print(\"Training:\", len(tr_x))\n",
    "    print(\"Testing:\", len(tst_x))\n",
    "    return (tr_x, tr_y, tst_x, tst_y)"
   ]
  },
  {
   "cell_type": "code",
   "execution_count": 21,
   "id": "3998ed4e",
   "metadata": {},
   "outputs": [],
   "source": [
    "def save_train_shards(n, tr_x, tr_y):\n",
    "    total = len(tr_x)\n",
    "    chunk = total//n\n",
    "    \n",
    "    for i in range(n):\n",
    "        os.mkdir(str(i))\n",
    "        chunk_x = tr_x[chunk*i:(chunk)*(i+1)]\n",
    "        chunk_y = tr_y[chunk*i:(chunk)*(i+1)]\n",
    "        with open('./' + str(i) + \"/tr_x.pkl\", 'wb') as f:\n",
    "            pickle.dump(chunk_x, f)\n",
    "        with open('./' + str(i) + \"/tr_y.pkl\", 'wb') as f:\n",
    "            pickle.dump(chunk_y, f)"
   ]
  },
  {
   "cell_type": "code",
   "execution_count": 10,
   "id": "a0bd787a",
   "metadata": {},
   "outputs": [
    {
     "name": "stdout",
     "output_type": "stream",
     "text": [
      "Training: 60000\n",
      "Testing: 10000\n"
     ]
    }
   ],
   "source": [
    "tr_x, tr_y, tst_x, tst_y = load_data(\"dataset\")"
   ]
  },
  {
   "cell_type": "code",
   "execution_count": 22,
   "id": "d5aa670f",
   "metadata": {},
   "outputs": [],
   "source": [
    "save_train_shards(5, tr_x, tr_y)"
   ]
  },
  {
   "cell_type": "code",
   "execution_count": null,
   "id": "7958515c",
   "metadata": {},
   "outputs": [],
   "source": []
  }
 ],
 "metadata": {
  "kernelspec": {
   "display_name": "Python 3 (ipykernel)",
   "language": "python",
   "name": "python3"
  },
  "language_info": {
   "codemirror_mode": {
    "name": "ipython",
    "version": 3
   },
   "file_extension": ".py",
   "mimetype": "text/x-python",
   "name": "python",
   "nbconvert_exporter": "python",
   "pygments_lexer": "ipython3",
   "version": "3.9.7"
  }
 },
 "nbformat": 4,
 "nbformat_minor": 5
}
