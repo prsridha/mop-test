{
 "cells": [
  {
   "cell_type": "code",
   "execution_count": 10,
   "id": "8444f39a",
   "metadata": {},
   "outputs": [],
   "source": [
    "import os\n",
    "import pickle\n",
    "from mnist import MNIST\n",
    "\n",
    "import numpy as np\n",
    "from tensorflow import keras\n",
    "from tensorflow.keras import layers"
   ]
  },
  {
   "cell_type": "code",
   "execution_count": 2,
   "id": "6331fa8b",
   "metadata": {},
   "outputs": [],
   "source": [
    "def load_data(path):\n",
    "    mndata = MNIST(path)\n",
    "    tr_x, tr_y = mndata.load_training()\n",
    "    tst_x, tst_y = mndata.load_testing()\n",
    "    print(\"Training:\", len(tr_x))\n",
    "    print(\"Testing:\", len(tst_x))\n",
    "    return (tr_x, tr_y, tst_x, tst_y)"
   ]
  },
  {
   "cell_type": "code",
   "execution_count": 53,
   "id": "6d54da09",
   "metadata": {},
   "outputs": [],
   "source": [
    "def save_train_shards(n, tr_x, tr_y):\n",
    "    total = len(tr_x)\n",
    "    chunk = total//n\n",
    "    \n",
    "    for i in range(n):\n",
    "        os.mkdir('./dataset/shards/' + str(i+1))\n",
    "        chunk_x = tr_x[chunk*i:(chunk)*(i+1)]\n",
    "        chunk_y = tr_y[chunk*i:(chunk)*(i+1)]\n",
    "        \n",
    "        chunk_x = np.asarray(chunk_x).reshape(chunk, 28, 28)\n",
    "        chunk_y = np.asarray(chunk_y)\n",
    "        \n",
    "        with open('./dataset/shards/' + str(i+1) + \"/tr_x.pkl\", 'wb') as f:\n",
    "            pickle.dump(chunk_x, f)\n",
    "        with open('./dataset/shards/' + str(i+1) + \"/tr_y.pkl\", 'wb') as f:\n",
    "            pickle.dump(chunk_y, f)"
   ]
  },
  {
   "cell_type": "code",
   "execution_count": 52,
   "id": "c9b9cdaf",
   "metadata": {},
   "outputs": [],
   "source": [
    "def read_train(n):\n",
    "    for i in range(n):\n",
    "        with open('./dataset/shards/' + str(i+1) + \"/tr_x.pkl\", 'rb') as f:\n",
    "            chunk_x = pickle.load(f)\n",
    "        with open('./dataset/shards/' + str(i+1) + \"/tr_y.pkl\", 'rb') as f:\n",
    "            chunk_y = pickle.load(f)\n",
    "             \n",
    "        return chunk_x, chunk_y"
   ]
  },
  {
   "cell_type": "code",
   "execution_count": 60,
   "id": "1cfaa3aa",
   "metadata": {},
   "outputs": [],
   "source": [
    "def model():\n",
    "    num_classes = 10\n",
    "    input_shape = (28, 28, 1)\n",
    "    \n",
    "    x_train, y_train = read_train(2)\n",
    "    x_train = x_train.astype(\"float32\") / 255\n",
    "    \n",
    "    x_train = np.expand_dims(x_train, -1)\n",
    "    y_train = keras.utils.to_categorical(y_train, num_classes)\n",
    "    \n",
    "    model = keras.Sequential(\n",
    "    [\n",
    "        keras.Input(shape=input_shape),\n",
    "        layers.Conv2D(32, kernel_size=(3, 3), activation=\"relu\"),\n",
    "        layers.MaxPooling2D(pool_size=(2, 2)),\n",
    "        layers.Conv2D(64, kernel_size=(3, 3), activation=\"relu\"),\n",
    "        layers.MaxPooling2D(pool_size=(2, 2)),\n",
    "        layers.Flatten(),\n",
    "        layers.Dropout(0.5),\n",
    "        layers.Dense(num_classes, activation=\"softmax\"),\n",
    "    ])\n",
    "\n",
    "    print(model.summary())\n",
    "    \n",
    "    batch_size = 128\n",
    "    epochs = 15\n",
    "\n",
    "    model.compile(loss=\"categorical_crossentropy\", optimizer=\"adam\", metrics=[\"accuracy\"])\n",
    "    \n",
    "    # pickle model here and then load it via NFS.\n",
    "    \n",
    "    model.fit(x_train, y_train, batch_size=batch_size, epochs=epochs, validation_split=0.1)"
   ]
  },
  {
   "cell_type": "code",
   "execution_count": 54,
   "id": "4a2c2df6",
   "metadata": {},
   "outputs": [
    {
     "name": "stdout",
     "output_type": "stream",
     "text": [
      "Training: 60000\n",
      "Testing: 10000\n"
     ]
    }
   ],
   "source": [
    "# tr_x, tr_y, tst_x, tst_y = load_data(\"dataset\")"
   ]
  },
  {
   "cell_type": "code",
   "execution_count": 55,
   "id": "c41cbb4b",
   "metadata": {},
   "outputs": [],
   "source": [
    "# save_train_shards(2, tr_x, tr_y)"
   ]
  },
  {
   "cell_type": "code",
   "execution_count": 61,
   "id": "43f6086b",
   "metadata": {},
   "outputs": [
    {
     "name": "stdout",
     "output_type": "stream",
     "text": [
      "Model: \"sequential_2\"\n",
      "_________________________________________________________________\n",
      " Layer (type)                Output Shape              Param #   \n",
      "=================================================================\n",
      " conv2d_4 (Conv2D)           (None, 26, 26, 32)        320       \n",
      "                                                                 \n",
      " max_pooling2d_4 (MaxPooling  (None, 13, 13, 32)       0         \n",
      " 2D)                                                             \n",
      "                                                                 \n",
      " conv2d_5 (Conv2D)           (None, 11, 11, 64)        18496     \n",
      "                                                                 \n",
      " max_pooling2d_5 (MaxPooling  (None, 5, 5, 64)         0         \n",
      " 2D)                                                             \n",
      "                                                                 \n",
      " flatten_2 (Flatten)         (None, 1600)              0         \n",
      "                                                                 \n",
      " dropout_2 (Dropout)         (None, 1600)              0         \n",
      "                                                                 \n",
      " dense_2 (Dense)             (None, 10)                16010     \n",
      "                                                                 \n",
      "=================================================================\n",
      "Total params: 34,826\n",
      "Trainable params: 34,826\n",
      "Non-trainable params: 0\n",
      "_________________________________________________________________\n",
      "None\n",
      "Epoch 1/15\n",
      "211/211 [==============================] - 8s 34ms/step - loss: 0.5730 - accuracy: 0.8300 - val_loss: 0.1804 - val_accuracy: 0.9500\n",
      "Epoch 2/15\n",
      "211/211 [==============================] - 7s 33ms/step - loss: 0.1636 - accuracy: 0.9497 - val_loss: 0.1106 - val_accuracy: 0.9683\n",
      "Epoch 3/15\n",
      "211/211 [==============================] - 7s 33ms/step - loss: 0.1202 - accuracy: 0.9639 - val_loss: 0.0797 - val_accuracy: 0.9740\n",
      "Epoch 4/15\n",
      "211/211 [==============================] - 7s 34ms/step - loss: 0.0963 - accuracy: 0.9709 - val_loss: 0.0710 - val_accuracy: 0.9770\n",
      "Epoch 5/15\n",
      "211/211 [==============================] - 7s 33ms/step - loss: 0.0816 - accuracy: 0.9750 - val_loss: 0.0605 - val_accuracy: 0.9807\n",
      "Epoch 6/15\n",
      "211/211 [==============================] - 7s 33ms/step - loss: 0.0732 - accuracy: 0.9780 - val_loss: 0.0519 - val_accuracy: 0.9837\n",
      "Epoch 7/15\n",
      "211/211 [==============================] - 8s 38ms/step - loss: 0.0677 - accuracy: 0.9790 - val_loss: 0.0522 - val_accuracy: 0.9833\n",
      "Epoch 8/15\n",
      "211/211 [==============================] - 7s 33ms/step - loss: 0.0608 - accuracy: 0.9816 - val_loss: 0.0420 - val_accuracy: 0.9860\n",
      "Epoch 9/15\n",
      "211/211 [==============================] - 7s 33ms/step - loss: 0.0564 - accuracy: 0.9823 - val_loss: 0.0399 - val_accuracy: 0.9867\n",
      "Epoch 10/15\n",
      "211/211 [==============================] - 7s 33ms/step - loss: 0.0512 - accuracy: 0.9841 - val_loss: 0.0405 - val_accuracy: 0.9880\n",
      "Epoch 11/15\n",
      "211/211 [==============================] - 7s 33ms/step - loss: 0.0507 - accuracy: 0.9846 - val_loss: 0.0397 - val_accuracy: 0.9870\n",
      "Epoch 12/15\n",
      "211/211 [==============================] - 7s 34ms/step - loss: 0.0477 - accuracy: 0.9861 - val_loss: 0.0405 - val_accuracy: 0.9863\n",
      "Epoch 13/15\n",
      "211/211 [==============================] - 7s 34ms/step - loss: 0.0437 - accuracy: 0.9859 - val_loss: 0.0380 - val_accuracy: 0.9863\n",
      "Epoch 14/15\n",
      "211/211 [==============================] - 7s 34ms/step - loss: 0.0419 - accuracy: 0.9862 - val_loss: 0.0380 - val_accuracy: 0.9890\n",
      "Epoch 15/15\n",
      "211/211 [==============================] - 8s 37ms/step - loss: 0.0400 - accuracy: 0.9870 - val_loss: 0.0344 - val_accuracy: 0.9883\n"
     ]
    }
   ],
   "source": [
    "model()"
   ]
  },
  {
   "cell_type": "code",
   "execution_count": 18,
   "id": "9515a276",
   "metadata": {},
   "outputs": [
    {
     "name": "stdout",
     "output_type": "stream",
     "text": [
      "30000\n",
      "30000\n"
     ]
    }
   ],
   "source": [
    "read_test(2)"
   ]
  },
  {
   "cell_type": "code",
   "execution_count": null,
   "id": "8c3f11d6",
   "metadata": {},
   "outputs": [],
   "source": []
  }
 ],
 "metadata": {
  "kernelspec": {
   "display_name": "Python 3 (ipykernel)",
   "language": "python",
   "name": "python3"
  },
  "language_info": {
   "codemirror_mode": {
    "name": "ipython",
    "version": 3
   },
   "file_extension": ".py",
   "mimetype": "text/x-python",
   "name": "python",
   "nbconvert_exporter": "python",
   "pygments_lexer": "ipython3",
   "version": "3.9.7"
  }
 },
 "nbformat": 4,
 "nbformat_minor": 5
}
