{
 "cells": [
  {
   "cell_type": "code",
   "execution_count": 37,
   "id": "edf617c2",
   "metadata": {},
   "outputs": [],
   "source": [
    "import os\n",
    "import pickle\n",
    "from mnist import MNIST"
   ]
  },
  {
   "cell_type": "code",
   "execution_count": 38,
   "id": "4bab711e",
   "metadata": {},
   "outputs": [],
   "source": [
    "def load_data(path):\n",
    "    mndata = MNIST(path)\n",
    "    tr_x, tr_y = mndata.load_training()\n",
    "    tst_x, tst_y = mndata.load_testing()\n",
    "    print(\"Training:\", len(tr_x))\n",
    "    print(\"Testing:\", len(tst_x))\n",
    "    return (tr_x, tr_y, tst_x, tst_y)"
   ]
  },
  {
   "cell_type": "code",
   "execution_count": 39,
   "id": "fece3552",
   "metadata": {},
   "outputs": [],
   "source": [
    "def save_train_shards(n, tr_x, tr_y):\n",
    "    total = len(tr_x)\n",
    "    chunk = total//n\n",
    "    \n",
    "    for i in range(n):\n",
    "        os.mkdir('./dataset/shards/' + str(i+1))\n",
    "        chunk_x = tr_x[chunk*i:(chunk)*(i+1)]\n",
    "        chunk_y = tr_y[chunk*i:(chunk)*(i+1)]\n",
    "        with open('./dataset/shards/' + str(i+1) + \"/tr_x.pkl\", 'wb') as f:\n",
    "            pickle.dump(chunk_x, f)\n",
    "        with open('./dataset/shards/' + str(i+1) + \"/tr_y.pkl\", 'wb') as f:\n",
    "            pickle.dump(chunk_y, f)"
   ]
  },
  {
   "cell_type": "code",
   "execution_count": 40,
   "id": "f89c2015",
   "metadata": {},
   "outputs": [
    {
     "name": "stdout",
     "output_type": "stream",
     "text": [
      "Training: 60000\n",
      "Testing: 10000\n"
     ]
    }
   ],
   "source": [
    "tr_x, tr_y, tst_x, tst_y = load_data(\"dataset\")"
   ]
  },
  {
   "cell_type": "code",
   "execution_count": 41,
   "id": "c0c00082",
   "metadata": {},
   "outputs": [
    {
     "ename": "FileExistsError",
     "evalue": "[WinError 183] Cannot create a file when that file already exists: './dataset/shards/1'",
     "output_type": "error",
     "traceback": [
      "\u001b[1;31m---------------------------------------------------------------------------\u001b[0m",
      "\u001b[1;31mFileExistsError\u001b[0m                           Traceback (most recent call last)",
      "\u001b[1;32m~\\AppData\\Local\\Temp/ipykernel_22436/3061438956.py\u001b[0m in \u001b[0;36m<module>\u001b[1;34m\u001b[0m\n\u001b[1;32m----> 1\u001b[1;33m \u001b[0msave_train_shards\u001b[0m\u001b[1;33m(\u001b[0m\u001b[1;36m2\u001b[0m\u001b[1;33m,\u001b[0m \u001b[0mtr_x\u001b[0m\u001b[1;33m,\u001b[0m \u001b[0mtr_y\u001b[0m\u001b[1;33m)\u001b[0m\u001b[1;33m\u001b[0m\u001b[1;33m\u001b[0m\u001b[0m\n\u001b[0m",
      "\u001b[1;32m~\\AppData\\Local\\Temp/ipykernel_22436/410842529.py\u001b[0m in \u001b[0;36msave_train_shards\u001b[1;34m(n, tr_x, tr_y)\u001b[0m\n\u001b[0;32m      4\u001b[0m \u001b[1;33m\u001b[0m\u001b[0m\n\u001b[0;32m      5\u001b[0m     \u001b[1;32mfor\u001b[0m \u001b[0mi\u001b[0m \u001b[1;32min\u001b[0m \u001b[0mrange\u001b[0m\u001b[1;33m(\u001b[0m\u001b[0mn\u001b[0m\u001b[1;33m)\u001b[0m\u001b[1;33m:\u001b[0m\u001b[1;33m\u001b[0m\u001b[1;33m\u001b[0m\u001b[0m\n\u001b[1;32m----> 6\u001b[1;33m         \u001b[0mos\u001b[0m\u001b[1;33m.\u001b[0m\u001b[0mmkdir\u001b[0m\u001b[1;33m(\u001b[0m\u001b[1;34m'./dataset/shards/'\u001b[0m \u001b[1;33m+\u001b[0m \u001b[0mstr\u001b[0m\u001b[1;33m(\u001b[0m\u001b[0mi\u001b[0m\u001b[1;33m+\u001b[0m\u001b[1;36m1\u001b[0m\u001b[1;33m)\u001b[0m\u001b[1;33m)\u001b[0m\u001b[1;33m\u001b[0m\u001b[1;33m\u001b[0m\u001b[0m\n\u001b[0m\u001b[0;32m      7\u001b[0m         \u001b[0mchunk_x\u001b[0m \u001b[1;33m=\u001b[0m \u001b[0mtr_x\u001b[0m\u001b[1;33m[\u001b[0m\u001b[0mchunk\u001b[0m\u001b[1;33m*\u001b[0m\u001b[0mi\u001b[0m\u001b[1;33m:\u001b[0m\u001b[1;33m(\u001b[0m\u001b[0mchunk\u001b[0m\u001b[1;33m)\u001b[0m\u001b[1;33m*\u001b[0m\u001b[1;33m(\u001b[0m\u001b[0mi\u001b[0m\u001b[1;33m+\u001b[0m\u001b[1;36m1\u001b[0m\u001b[1;33m)\u001b[0m\u001b[1;33m]\u001b[0m\u001b[1;33m\u001b[0m\u001b[1;33m\u001b[0m\u001b[0m\n\u001b[0;32m      8\u001b[0m         \u001b[0mchunk_y\u001b[0m \u001b[1;33m=\u001b[0m \u001b[0mtr_y\u001b[0m\u001b[1;33m[\u001b[0m\u001b[0mchunk\u001b[0m\u001b[1;33m*\u001b[0m\u001b[0mi\u001b[0m\u001b[1;33m:\u001b[0m\u001b[1;33m(\u001b[0m\u001b[0mchunk\u001b[0m\u001b[1;33m)\u001b[0m\u001b[1;33m*\u001b[0m\u001b[1;33m(\u001b[0m\u001b[0mi\u001b[0m\u001b[1;33m+\u001b[0m\u001b[1;36m1\u001b[0m\u001b[1;33m)\u001b[0m\u001b[1;33m]\u001b[0m\u001b[1;33m\u001b[0m\u001b[1;33m\u001b[0m\u001b[0m\n",
      "\u001b[1;31mFileExistsError\u001b[0m: [WinError 183] Cannot create a file when that file already exists: './dataset/shards/1'"
     ]
    }
   ],
   "source": [
    "save_train_shards(2, tr_x, tr_y)"
   ]
  },
  {
   "cell_type": "code",
   "execution_count": 34,
   "id": "b63000e6",
   "metadata": {},
   "outputs": [],
   "source": [
    "def read_test(n):\n",
    "    for i in range(n):\n",
    "        with open('./dataset/shards/' + str(i+1) + \"/tr_x.pkl\", 'rb') as f:\n",
    "            chunk_x = pickle.load(f)\n",
    "        with open('./dataset/shards/' + str(i+1) + \"/tr_x.pkl\", 'rb') as f:\n",
    "            chunk_y = pickle.load(f)\n",
    "        print(len(chunk_x))"
   ]
  },
  {
   "cell_type": "code",
   "execution_count": 36,
   "id": "c6bfd141",
   "metadata": {},
   "outputs": [
    {
     "name": "stdout",
     "output_type": "stream",
     "text": [
      "30000\n",
      "30000\n"
     ]
    }
   ],
   "source": [
    "read_test(2)"
   ]
  },
  {
   "cell_type": "code",
   "execution_count": null,
   "id": "dd7ade8c",
   "metadata": {},
   "outputs": [],
   "source": []
  }
 ],
 "metadata": {
  "kernelspec": {
   "display_name": "Python 3 (ipykernel)",
   "language": "python",
   "name": "python3"
  },
  "language_info": {
   "codemirror_mode": {
    "name": "ipython",
    "version": 3
   },
   "file_extension": ".py",
   "mimetype": "text/x-python",
   "name": "python",
   "nbconvert_exporter": "python",
   "pygments_lexer": "ipython3",
   "version": "3.9.7"
  }
 },
 "nbformat": 4,
 "nbformat_minor": 5
}
